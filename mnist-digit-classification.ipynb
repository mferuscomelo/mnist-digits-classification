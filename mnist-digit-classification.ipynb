{
  "nbformat": 4,
  "nbformat_minor": 2,
  "metadata": {
    "colab": {
      "name": "mnist-digit-classification.ipynb",
      "provenance": []
    },
    "kernelspec": {
      "name": "python3",
      "display_name": "Python 3"
    },
    "language_info": {
      "name": "python"
    },
    "accelerator": "GPU"
  },
  "cells": [
    {
      "cell_type": "code",
      "execution_count": 33,
      "source": [
        "import numpy as np\r\n",
        "import seaborn as sns\r\n",
        "import tensorflow as tf\r\n",
        "import matplotlib.pyplot as plt\r\n",
        "\r\n",
        "from keras.datasets import mnist\r\n",
        "from keras.optimizers import SGD\r\n",
        "from keras.models import Sequential\r\n",
        "from keras.utils.np_utils import to_categorical\r\n",
        "from keras.preprocessing.image import ImageDataGenerator\r\n",
        "from keras.layers import Dense, Dropout, Flatten, Conv2D, MaxPool2D, BatchNormalization\r\n",
        "from sklearn.metrics import confusion_matrix, precision_score, recall_score, f1_score, cohen_kappa_score"
      ],
      "outputs": [],
      "metadata": {
        "id": "WgWcEB66Rz0K"
      }
    },
    {
      "cell_type": "code",
      "execution_count": 20,
      "source": [
        "# Load dataset\r\n",
        "(X_train, y_train), (X_test, y_test) = mnist.load_data()\r\n",
        "\r\n",
        "print(X_train.shape, y_train.shape)\r\n",
        "print(X_test.shape, y_test.shape)"
      ],
      "outputs": [
        {
          "output_type": "stream",
          "name": "stdout",
          "text": [
            "(60000, 28, 28) (60000,)\n",
            "(10000, 28, 28) (10000,)\n"
          ]
        }
      ],
      "metadata": {
        "colab": {
          "base_uri": "https://localhost:8080/"
        },
        "id": "VzXnwvziSQhe",
        "outputId": "940d6975-ffe9-4e17-e3a6-b2cffa5fe8b4"
      }
    },
    {
      "cell_type": "code",
      "execution_count": 21,
      "source": [
        "# Plot first few images\r\n",
        "img_index = 0\r\n",
        "f, axarr = plt.subplots(4, 4)\r\n",
        "\r\n",
        "for x, y in np.ndindex((4, 4)):\r\n",
        "  axarr[x,y].imshow(X_train[img_index], cmap=plt.get_cmap('gray'))\r\n",
        "  axarr[x,y].axis(\"off\")\r\n",
        "  img_index += 1\r\n",
        " \r\n",
        "plt.show()"
      ],
      "outputs": [
        {
          "output_type": "display_data",
          "data": {
            "text/plain": [
              "<Figure size 432x288 with 16 Axes>"
            ],
            "image/png": "[encoded data removed]"
          },
          "metadata": {
            "tags": [],
            "needs_background": "light"
          }
        }
      ],
      "metadata": {
        "colab": {
          "base_uri": "https://localhost:8080/",
          "height": 248
        },
        "id": "NHBzXPxiSXH3",
        "outputId": "beee99cf-7146-44fa-85ca-340548b0b096"
      }
    },
    {
      "cell_type": "code",
      "execution_count": 22,
      "source": [
        "# Normalize pixel values\r\n",
        "X_train = X_train / 255.0\r\n",
        "X_test = X_test / 255.0"
      ],
      "outputs": [],
      "metadata": {
        "id": "tKblSCnlXHUN"
      }
    },
    {
      "cell_type": "code",
      "execution_count": 23,
      "source": [
        "# Reshape data\r\n",
        "X_train = X_train.reshape((X_train.shape[0], 28, 28, 1))\r\n",
        "X_test = X_test.reshape((X_test.shape[0], 28, 28, 1))\r\n",
        "\r\n",
        "print(X_train.shape, X_test.shape)"
      ],
      "outputs": [
        {
          "output_type": "stream",
          "name": "stdout",
          "text": [
            "(60000, 28, 28, 1) (10000, 28, 28, 1)\n"
          ]
        }
      ],
      "metadata": {
        "colab": {
          "base_uri": "https://localhost:8080/"
        },
        "id": "6YeLVsEITCZW",
        "outputId": "24a53753-1384-435d-9571-caf45822dc69"
      }
    },
    {
      "cell_type": "code",
      "execution_count": 24,
      "source": [
        "# Use one hot encoding to transform the labels to data that the model can understand\r\n",
        "y_train = to_categorical(y_train)\r\n",
        "y_test = to_categorical(y_test)\r\n",
        "\r\n",
        "print(y_train.shape, y_test.shape)"
      ],
      "outputs": [
        {
          "output_type": "stream",
          "name": "stdout",
          "text": [
            "(60000, 10) (10000, 10)\n"
          ]
        }
      ],
      "metadata": {
        "colab": {
          "base_uri": "https://localhost:8080/"
        },
        "id": "IHhC2xh7WEy0",
        "outputId": "ade4cee8-29a6-42aa-be53-d8ec4235af1a"
      }
    },
    {
      "cell_type": "code",
      "execution_count": 25,
      "source": [
        "# Data augmentation\r\n",
        "datagen = ImageDataGenerator(\r\n",
        "        featurewise_center=False,  # set input mean to 0 over the dataset\r\n",
        "        samplewise_center=False,  # set each sample mean to 0\r\n",
        "        featurewise_std_normalization=False,  # divide inputs by std of the dataset\r\n",
        "        samplewise_std_normalization=False,  # divide each input by its std\r\n",
        "        zca_whitening=False,  # dimesion reduction\r\n",
        "        rotation_range=5,  # randomly rotate images in the range 5 degrees\r\n",
        "        zoom_range = 0.1, # Randomly zoom image 10%\r\n",
        "        width_shift_range=0.1,  # randomly shift images horizontally 10%\r\n",
        "        height_shift_range=0.1,  # randomly shift images vertically 10%\r\n",
        "        horizontal_flip=False,  # randomly flip images\r\n",
        "        vertical_flip=False)  # randomly flip images\r\n",
        "\r\n",
        "datagen.fit(X_train)"
      ],
      "outputs": [],
      "metadata": {
        "id": "iT5xEMriY4mL"
      }
    },
    {
      "cell_type": "code",
      "execution_count": 40,
      "source": [
        "model = Sequential()\r\n",
        "\r\n",
        "model.add(Conv2D(32, (3, 3), activation='relu', kernel_initializer='he_uniform', input_shape=(28, 28, 1)))\r\n",
        "model.add(BatchNormalization())\r\n",
        "model.add(MaxPool2D((2, 2)))\r\n",
        "model.add(Dropout(0.25))\r\n",
        "\r\n",
        "model.add(Conv2D(32, (3, 3), activation='relu', kernel_initializer='he_uniform'))\r\n",
        "model.add(BatchNormalization())\r\n",
        "model.add(MaxPool2D((2, 2), (2,2)))\r\n",
        "model.add(Dropout(0.25))\r\n",
        "\r\n",
        "model.add(Flatten())\r\n",
        "\r\n",
        "model.add(Dense(100, activation='relu', kernel_initializer='he_uniform'))\r\n",
        "\r\n",
        "model.add(Dense(y_train.shape[1], activation='softmax'))\r\n",
        "\r\n",
        "opt = SGD(learning_rate=0.01, momentum=0.9)\r\n",
        "\r\n",
        "model.compile(optimizer=opt, loss='categorical_crossentropy', metrics=['accuracy'])\r\n",
        "\r\n",
        "history = model.fit(\r\n",
        "  datagen.flow(X_train, y_train, batch_size=250),\r\n",
        "  epochs=20,\r\n",
        "  validation_data=(X_test, y_test)\r\n",
        ")"
      ],
      "outputs": [
        {
          "output_type": "stream",
          "name": "stdout",
          "text": [
            "Epoch 1/20\n",
            "240/240 [==============================] - 17s 66ms/step - loss: 1.1522 - accuracy: 0.6479 - val_loss: 0.1845 - val_accuracy: 0.9507\n",
            "Epoch 2/20\n",
            "240/240 [==============================] - 15s 61ms/step - loss: 0.2384 - accuracy: 0.9262 - val_loss: 0.0607 - val_accuracy: 0.9816\n",
            "Epoch 3/20\n",
            "240/240 [==============================] - 15s 64ms/step - loss: 0.1755 - accuracy: 0.9459 - val_loss: 0.0945 - val_accuracy: 0.9707\n",
            "Epoch 4/20\n",
            "240/240 [==============================] - 15s 61ms/step - loss: 0.1505 - accuracy: 0.9526 - val_loss: 0.0684 - val_accuracy: 0.9781\n",
            "Epoch 5/20\n",
            "240/240 [==============================] - 15s 62ms/step - loss: 0.1298 - accuracy: 0.9592 - val_loss: 0.0866 - val_accuracy: 0.9732\n",
            "Epoch 6/20\n",
            "240/240 [==============================] - 15s 65ms/step - loss: 0.1155 - accuracy: 0.9640 - val_loss: 0.0463 - val_accuracy: 0.9849\n",
            "Epoch 7/20\n",
            "240/240 [==============================] - 15s 61ms/step - loss: 0.1069 - accuracy: 0.9662 - val_loss: 0.0484 - val_accuracy: 0.9847\n",
            "Epoch 8/20\n",
            "240/240 [==============================] - 15s 64ms/step - loss: 0.0992 - accuracy: 0.9691 - val_loss: 0.0382 - val_accuracy: 0.9870\n",
            "Epoch 9/20\n",
            "240/240 [==============================] - 15s 64ms/step - loss: 0.0919 - accuracy: 0.9710 - val_loss: 0.0422 - val_accuracy: 0.9862\n",
            "Epoch 10/20\n",
            "240/240 [==============================] - 15s 61ms/step - loss: 0.0898 - accuracy: 0.9720 - val_loss: 0.0371 - val_accuracy: 0.9887\n",
            "Epoch 11/20\n",
            "240/240 [==============================] - 15s 64ms/step - loss: 0.0859 - accuracy: 0.9736 - val_loss: 0.0272 - val_accuracy: 0.9905\n",
            "Epoch 12/20\n",
            "240/240 [==============================] - 15s 64ms/step - loss: 0.0825 - accuracy: 0.9744 - val_loss: 0.0309 - val_accuracy: 0.9897\n",
            "Epoch 13/20\n",
            "240/240 [==============================] - 15s 64ms/step - loss: 0.0733 - accuracy: 0.9765 - val_loss: 0.0319 - val_accuracy: 0.9897\n",
            "Epoch 14/20\n",
            "240/240 [==============================] - 15s 64ms/step - loss: 0.0714 - accuracy: 0.9765 - val_loss: 0.0411 - val_accuracy: 0.9870\n",
            "Epoch 15/20\n",
            "240/240 [==============================] - 15s 64ms/step - loss: 0.0731 - accuracy: 0.9764 - val_loss: 0.0257 - val_accuracy: 0.9916\n",
            "Epoch 16/20\n",
            "240/240 [==============================] - 15s 64ms/step - loss: 0.0723 - accuracy: 0.9784 - val_loss: 0.0295 - val_accuracy: 0.9898\n",
            "Epoch 17/20\n",
            "240/240 [==============================] - 15s 64ms/step - loss: 0.0701 - accuracy: 0.9779 - val_loss: 0.0269 - val_accuracy: 0.9908\n",
            "Epoch 18/20\n",
            "240/240 [==============================] - 15s 64ms/step - loss: 0.0641 - accuracy: 0.9791 - val_loss: 0.0387 - val_accuracy: 0.9869\n",
            "Epoch 19/20\n",
            "240/240 [==============================] - 15s 64ms/step - loss: 0.0660 - accuracy: 0.9795 - val_loss: 0.0327 - val_accuracy: 0.9897\n",
            "Epoch 20/20\n",
            "240/240 [==============================] - 15s 64ms/step - loss: 0.0695 - accuracy: 0.9787 - val_loss: 0.0278 - val_accuracy: 0.9911\n"
          ]
        }
      ],
      "metadata": {
        "colab": {
          "base_uri": "https://localhost:8080/"
        },
        "id": "eb_T81_QX0Iw",
        "outputId": "ab6fe7fd-68a8-4a8b-fa13-536e3f9364e2"
      }
    },
    {
      "cell_type": "code",
      "execution_count": 41,
      "source": [
        "model.summary()"
      ],
      "outputs": [
        {
          "output_type": "stream",
          "name": "stdout",
          "text": [
            "Model: \"sequential_5\"\n",
            "_________________________________________________________________\n",
            "Layer (type)                 Output Shape              Param #   \n",
            "=================================================================\n",
            "conv2d_7 (Conv2D)            (None, 26, 26, 32)        320       \n",
            "_________________________________________________________________\n",
            "batch_normalization_4 (Batch (None, 26, 26, 32)        128       \n",
            "_________________________________________________________________\n",
            "max_pooling2d_6 (MaxPooling2 (None, 13, 13, 32)        0         \n",
            "_________________________________________________________________\n",
            "dropout_2 (Dropout)          (None, 13, 13, 32)        0         \n",
            "_________________________________________________________________\n",
            "conv2d_8 (Conv2D)            (None, 11, 11, 32)        9248      \n",
            "_________________________________________________________________\n",
            "batch_normalization_5 (Batch (None, 11, 11, 32)        128       \n",
            "_________________________________________________________________\n",
            "max_pooling2d_7 (MaxPooling2 (None, 5, 5, 32)          0         \n",
            "_________________________________________________________________\n",
            "dropout_3 (Dropout)          (None, 5, 5, 32)          0         \n",
            "_________________________________________________________________\n",
            "flatten_4 (Flatten)          (None, 800)               0         \n",
            "_________________________________________________________________\n",
            "dense_8 (Dense)              (None, 100)               80100     \n",
            "_________________________________________________________________\n",
            "dense_9 (Dense)              (None, 10)                1010      \n",
            "=================================================================\n",
            "Total params: 90,934\n",
            "Trainable params: 90,806\n",
            "Non-trainable params: 128\n",
            "_________________________________________________________________\n"
          ]
        }
      ],
      "metadata": {
        "colab": {
          "base_uri": "https://localhost:8080/"
        },
        "id": "AT2kGDQKZyCY",
        "outputId": "3bdd228d-d74f-4970-9ac1-c36b344442fa"
      }
    },
    {
      "cell_type": "code",
      "execution_count": 42,
      "source": [
        "plt.plot(history.history['loss'], label='train')\n",
        "plt.plot(history.history['val_loss'], label='test')\n",
        "plt.legend();"
      ],
      "outputs": [
        {
          "output_type": "display_data",
          "data": {
            "text/plain": [
              "<Figure size 432x288 with 1 Axes>"
            ],
            "image/png": "[encoded data removed]"
          },
          "metadata": {
            "tags": [],
            "needs_background": "light"
          }
        }
      ],
      "metadata": {
        "colab": {
          "base_uri": "https://localhost:8080/",
          "height": 265
        },
        "id": "EO1Sx1GJa_O8",
        "outputId": "8f3e285e-6708-486e-bdc9-824148e0ef9e"
      }
    },
    {
      "cell_type": "code",
      "execution_count": 43,
      "source": [
        "model.evaluate(X_test, y_test)"
      ],
      "outputs": [
        {
          "output_type": "stream",
          "name": "stdout",
          "text": [
            "313/313 [==============================] - 1s 2ms/step - loss: 0.0278 - accuracy: 0.9911\n"
          ]
        },
        {
          "output_type": "execute_result",
          "data": {
            "text/plain": [
              "[0.02776077203452587, 0.991100013256073]"
            ]
          },
          "metadata": {
            "tags": []
          },
          "execution_count": 43
        }
      ],
      "metadata": {
        "colab": {
          "base_uri": "https://localhost:8080/"
        },
        "id": "IOxf2OMtbCIs",
        "outputId": "e8b0fa68-82df-4a4a-beec-9af9a04d7149"
      }
    },
    {
      "cell_type": "code",
      "execution_count": 44,
      "source": [
        "y_pred = np.argmax(model.predict(X_test), axis=-1)\n",
        "\n",
        "y_test_round = np.argmax(y_test, axis=1)\n",
        "\n",
        "cm = confusion_matrix(y_test_round, y_pred)\n",
        "\n",
        "figure = plt.figure(figsize=(8, 8))\n",
        "sns.heatmap(cm, annot=True, cmap=plt.cm.Blues, square=True, fmt=\"\")\n",
        "plt.tight_layout()\n",
        "plt.ylabel('True label')\n",
        "plt.xlabel('Predicted label')\n",
        "plt.show()"
      ],
      "outputs": [
        {
          "output_type": "display_data",
          "data": {
            "text/plain": [
              "<Figure size 576x576 with 2 Axes>"
            ],
            "image/png": "[encoded data removed]"
          },
          "metadata": {
            "tags": [],
            "needs_background": "light"
          }
        }
      ],
      "metadata": {
        "colab": {
          "base_uri": "https://localhost:8080/",
          "height": 585
        },
        "id": "xOi8ABxLbDbF",
        "outputId": "d05b3d15-991c-4c74-b074-4516338899ca"
      }
    },
    {
      "cell_type": "code",
      "execution_count": null,
      "source": [],
      "outputs": [],
      "metadata": {
        "id": "7PTHvkUjfZ99"
      }
    }
  ]
}